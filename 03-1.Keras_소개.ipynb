{
  "nbformat": 4,
  "nbformat_minor": 0,
  "metadata": {
    "colab": {
      "provenance": [],
      "gpuType": "T4",
      "include_colab_link": true
    },
    "kernelspec": {
      "name": "python3",
      "display_name": "Python 3"
    },
    "language_info": {
      "name": "python"
    },
    "accelerator": "GPU"
  },
  "cells": [
    {
      "cell_type": "markdown",
      "metadata": {
        "id": "view-in-github",
        "colab_type": "text"
      },
      "source": [
        "<a href=\"https://colab.research.google.com/github/ksb7762-k/Codeit-DeepLearning/blob/main/03-1.Keras_%EC%86%8C%EA%B0%9C.ipynb\" target=\"_parent\"><img src=\"https://colab.research.google.com/assets/colab-badge.svg\" alt=\"Open In Colab\"/></a>"
      ]
    },
    {
      "cell_type": "markdown",
      "source": [
        "![fc.svg](data:image/svg+xml;base64,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)"
      ],
      "metadata": {
        "id": "emBlXN72YDfq"
      }
    },
    {
      "cell_type": "code",
      "execution_count": null,
      "metadata": {
        "id": "Umku-LSJPMhI"
      },
      "outputs": [],
      "source": [
        "import tensorflow as tf"
      ]
    },
    {
      "cell_type": "code",
      "source": [
        "class FullyConnectedLayer:\n",
        "    def __init__(self, input_dim, output_dim):\n",
        "        self.W = tf.Variable(tf.random.normal([input_dim, output_dim]))\n",
        "        self.b = tf.Variable(tf.random.normal([output_dim]))\n",
        "\n",
        "    def __call__(self, x):\n",
        "        return tf.matmul(x, self.W) + self.b\n",
        "\n",
        "layer = FullyConnectedLayer(8, 4)"
      ],
      "metadata": {
        "id": "J-s04UDhPcI6"
      },
      "execution_count": null,
      "outputs": []
    },
    {
      "cell_type": "code",
      "source": [
        "import keras"
      ],
      "metadata": {
        "id": "c4zbNaM-eDBC"
      },
      "execution_count": null,
      "outputs": []
    },
    {
      "cell_type": "code",
      "source": [
        "layer = keras.layers.Dense(4, activation=\"relu\")"
      ],
      "metadata": {
        "id": "hO4mJ9mOeKgY"
      },
      "execution_count": null,
      "outputs": []
    },
    {
      "cell_type": "code",
      "source": [
        "x = tf.random.normal([1, 8])\n",
        "y = layer(x)\n",
        "y"
      ],
      "metadata": {
        "colab": {
          "base_uri": "https://localhost:8080/"
        },
        "id": "Nw1hHaVHe5sy",
        "outputId": "ab0c9d2b-4578-42d0-e4c3-b27078c498ca"
      },
      "execution_count": null,
      "outputs": [
        {
          "output_type": "execute_result",
          "data": {
            "text/plain": [
              "<tf.Tensor: shape=(1, 4), dtype=float32, numpy=array([[0.1942147 , 0.25112796, 0.        , 0.        ]], dtype=float32)>"
            ]
          },
          "metadata": {},
          "execution_count": 7
        }
      ]
    },
    {
      "cell_type": "code",
      "source": [],
      "metadata": {
        "id": "HTFay0IWfnd-"
      },
      "execution_count": null,
      "outputs": []
    }
  ]
}