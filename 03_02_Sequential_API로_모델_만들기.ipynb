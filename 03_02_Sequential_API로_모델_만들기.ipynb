{
  "nbformat": 4,
  "nbformat_minor": 0,
  "metadata": {
    "colab": {
      "provenance": [],
      "gpuType": "T4",
      "include_colab_link": true
    },
    "kernelspec": {
      "name": "python3",
      "display_name": "Python 3"
    },
    "language_info": {
      "name": "python"
    },
    "accelerator": "GPU"
  },
  "cells": [
    {
      "cell_type": "markdown",
      "metadata": {
        "id": "view-in-github",
        "colab_type": "text"
      },
      "source": [
        "<a href=\"https://colab.research.google.com/github/ksb7762-k/Codeit-DeepLearning/blob/main/03_02_Sequential_API%EB%A1%9C_%EB%AA%A8%EB%8D%B8_%EB%A7%8C%EB%93%A4%EA%B8%B0.ipynb\" target=\"_parent\"><img src=\"https://colab.research.google.com/assets/colab-badge.svg\" alt=\"Open In Colab\"/></a>"
      ]
    },
    {
      "cell_type": "markdown",
      "source": [
        "이름 그대로 순차적으로 레이어를 쌓아 모델을 만드는 방식  \n",
        "\n",
        "그림처럼 모델들이 차례대로 연결된 형태"
      ],
      "metadata": {
        "id": "OIslSWBgJOHF"
      }
    },
    {
      "cell_type": "markdown",
      "source": [
        "![sequential.png](data:image/png;base64,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)"
      ],
      "metadata": {
        "id": "px8tj8w4hNqD"
      }
    },
    {
      "cell_type": "code",
      "execution_count": null,
      "metadata": {
        "id": "0XjPjDiygvCJ"
      },
      "outputs": [],
      "source": [
        "import tensorflow as tf\n",
        "import keras"
      ]
    },
    {
      "cell_type": "code",
      "source": [
        "model = keras.Sequential(\n",
        "    [layer0, layer1, layer2]\n",
        ")"
      ],
      "metadata": {
        "id": "wpa2dvBviKst"
      },
      "execution_count": null,
      "outputs": []
    },
    {
      "cell_type": "markdown",
      "source": [
        "입력 차원: 8\n",
        "\n",
        "| index | 0 | 1 | 2 |\n",
        "| --- | --- | --- | --- |\n",
        "| 레이어 타입 | Dense Layer | Dense Layer | Dense Layer |\n",
        "| 출력 차원 | 4 | 6 | 2 |\n",
        "| 활성화 함수 | ReLU | ReLU | Softmax |"
      ],
      "metadata": {
        "id": "zknH8Y44kFAS"
      }
    },
    {
      "cell_type": "code",
      "source": [
        "layer0 = keras.layers.Dense(4, activation=\"relu\")\n",
        "layer1 = keras.layers.Dense(6, activation=\"relu\")\n",
        "layer2 = keras.layers.Dense(2, activation=\"softmax\")\n",
        "\n",
        "model = keras.Sequential(\n",
        "    [layer0, layer1, layer2],\n",
        "    name=\"Model 1\",\n",
        ")"
      ],
      "metadata": {
        "id": "ah1mBYC_kHnq"
      },
      "execution_count": null,
      "outputs": []
    },
    {
      "cell_type": "code",
      "source": [
        "x = tf.random.normal([3, 8])\n",
        "y = model(x)"
      ],
      "metadata": {
        "id": "RrTg6fYtmFG0"
      },
      "execution_count": null,
      "outputs": []
    },
    {
      "cell_type": "code",
      "source": [
        "print(f\"출력 텐서 shape: {y.shape}\")"
      ],
      "metadata": {
        "colab": {
          "base_uri": "https://localhost:8080/"
        },
        "id": "wxOQaaIhmzP2",
        "outputId": "9fd1cf13-4a71-40d8-d309-9a803c9939db"
      },
      "execution_count": null,
      "outputs": [
        {
          "output_type": "stream",
          "name": "stdout",
          "text": [
            "출력 텐서 shape: (3, 2)\n"
          ]
        }
      ]
    },
    {
      "cell_type": "code",
      "source": [
        "model_with_input = keras.Sequential(\n",
        "    [\n",
        "        keras.Input(shape=(8,)),\n",
        "        keras.layers.Dense(4, activation=\"relu\"),\n",
        "        keras.layers.Dense(6, activation=\"relu\"),\n",
        "        keras.layers.Dense(2, activation=\"softmax\"),\n",
        "    ]\n",
        ")"
      ],
      "metadata": {
        "id": "rItIRkVXnMGd"
      },
      "execution_count": null,
      "outputs": []
    },
    {
      "cell_type": "code",
      "source": [
        "model_with_input = keras.Sequential(\n",
        "    [\n",
        "        keras.layers.Dense(4, activation=\"relu\", input_shape=(8,)),\n",
        "        keras.layers.Dense(6, activation=\"relu\"),\n",
        "        keras.layers.Dense(2, activation=\"softmax\"),\n",
        "    ]\n",
        ")"
      ],
      "metadata": {
        "colab": {
          "base_uri": "https://localhost:8080/"
        },
        "id": "EyyWxTHyoMRB",
        "outputId": "08c9f7f2-6460-4507-dc34-a1b77f9d513c"
      },
      "execution_count": null,
      "outputs": [
        {
          "output_type": "stream",
          "name": "stderr",
          "text": [
            "/usr/local/lib/python3.10/dist-packages/keras/src/layers/core/dense.py:87: UserWarning: Do not pass an `input_shape`/`input_dim` argument to a layer. When using Sequential models, prefer using an `Input(shape)` object as the first layer in the model instead.\n",
            "  super().__init__(activity_regularizer=activity_regularizer, **kwargs)\n"
          ]
        }
      ]
    },
    {
      "cell_type": "code",
      "source": [],
      "metadata": {
        "id": "DJnC4zy3og12"
      },
      "execution_count": null,
      "outputs": []
    }
  ]
}