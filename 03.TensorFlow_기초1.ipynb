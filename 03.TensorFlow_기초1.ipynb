{
  "nbformat": 4,
  "nbformat_minor": 0,
  "metadata": {
    "colab": {
      "provenance": [],
      "authorship_tag": "ABX9TyMfbaDO1MN9W9HaX8v3E2DQ",
      "include_colab_link": true
    },
    "kernelspec": {
      "name": "python3",
      "display_name": "Python 3"
    },
    "language_info": {
      "name": "python"
    }
  },
  "cells": [
    {
      "cell_type": "markdown",
      "metadata": {
        "id": "view-in-github",
        "colab_type": "text"
      },
      "source": [
        "<a href=\"https://colab.research.google.com/github/ksb7762-k/Codeit-DeepLearning/blob/main/03.TensorFlow_%EA%B8%B0%EC%B4%881.ipynb\" target=\"_parent\"><img src=\"https://colab.research.google.com/assets/colab-badge.svg\" alt=\"Open In Colab\"/></a>"
      ]
    },
    {
      "cell_type": "markdown",
      "source": [
        "tensor란 다차원 배열,\n",
        "0차원 텐서 스칼라\n",
        "1차원 텐서 벡터\n",
        "2차원 센터 행렬\n",
        "딥러닝에서 사용되는 입력과 출력 그리고 파라미터느 모두 텐서로 표현됨\n",
        "\n",
        "\n",
        "딥러닝 모델은 결구 ㅅ텐서간의 연산이기 덈누에 테서라는 이름을 갖게 됨\n",
        "텐서플로에서 텐서를 어떻게 만드든지 알아보자"
      ],
      "metadata": {
        "id": "X5-IWVP19ym5"
      }
    },
    {
      "cell_type": "code",
      "execution_count": 1,
      "metadata": {
        "id": "NAew8e5C67hr"
      },
      "outputs": [],
      "source": [
        "import tensorflow as tf"
      ]
    },
    {
      "cell_type": "code",
      "source": [
        "tensor = tf.constant([1,2]) # constant함수를 사용해서 텐서를 만들자\n",
        "tensor"
      ],
      "metadata": {
        "colab": {
          "base_uri": "https://localhost:8080/"
        },
        "id": "JxU2Fz8o8UC7",
        "outputId": "ff5b94c7-f8d2-49c8-f830-ffb16a619b62"
      },
      "execution_count": 2,
      "outputs": [
        {
          "output_type": "execute_result",
          "data": {
            "text/plain": [
              "<tf.Tensor: shape=(2,), dtype=int32, numpy=array([1, 2], dtype=int32)>"
            ]
          },
          "metadata": {},
          "execution_count": 2
        }
      ]
    },
    {
      "cell_type": "code",
      "source": [
        "print(f'data type: {tensor.dtype}')\n",
        "print(f'number of dimensions: {tensor.ndim}')\n",
        "print(f'shape: {tensor.shape}')"
      ],
      "metadata": {
        "colab": {
          "base_uri": "https://localhost:8080/"
        },
        "id": "TLMdsUgG8XlP",
        "outputId": "a4a8f7dc-3b9d-4baa-af8e-27ea2ba1c7fc"
      },
      "execution_count": 3,
      "outputs": [
        {
          "output_type": "stream",
          "name": "stdout",
          "text": [
            "data type: <dtype: 'int32'>\n",
            "number of dimensions: 1\n",
            "shape: (2,)\n"
          ]
        }
      ]
    },
    {
      "cell_type": "code",
      "source": [
        "tensor = tf.constant([1,1.5])\n",
        "tensor.dtype"
      ],
      "metadata": {
        "colab": {
          "base_uri": "https://localhost:8080/"
        },
        "id": "Mc5zNj328mQy",
        "outputId": "54aeddea-f312-4bdc-cee2-efac8e4151b6"
      },
      "execution_count": 5,
      "outputs": [
        {
          "output_type": "execute_result",
          "data": {
            "text/plain": [
              "tf.float32"
            ]
          },
          "metadata": {},
          "execution_count": 5
        }
      ]
    },
    {
      "cell_type": "code",
      "source": [
        "tensor = tf.constant([1,2], dtype=tf.float16)\n",
        "tensor.dtype"
      ],
      "metadata": {
        "colab": {
          "base_uri": "https://localhost:8080/"
        },
        "id": "ljqKr6-r9GOU",
        "outputId": "fe647273-18f6-4abe-b7c8-7c405abc21a6"
      },
      "execution_count": 8,
      "outputs": [
        {
          "output_type": "execute_result",
          "data": {
            "text/plain": [
              "tf.float16"
            ]
          },
          "metadata": {},
          "execution_count": 8
        }
      ]
    },
    {
      "cell_type": "code",
      "source": [
        "import numpy as np\n",
        "\n",
        "tensor = tf.constant(\n",
        "    np.array([[1,2], [3,4]])\n",
        ")\n",
        "\n",
        "tensor"
      ],
      "metadata": {
        "colab": {
          "base_uri": "https://localhost:8080/"
        },
        "id": "c0FJegRo9SEh",
        "outputId": "ecfae904-c907-4423-d223-93c18f190151"
      },
      "execution_count": 9,
      "outputs": [
        {
          "output_type": "execute_result",
          "data": {
            "text/plain": [
              "<tf.Tensor: shape=(2, 2), dtype=int64, numpy=\n",
              "array([[1, 2],\n",
              "       [3, 4]])>"
            ]
          },
          "metadata": {},
          "execution_count": 9
        }
      ]
    },
    {
      "cell_type": "markdown",
      "source": [
        "지금까지는 텐서를 constant함수로 만들었는데 이름에서 알 수 있듯이 constant함수로 텐서를 만들면 텐서의 값을 바꿀 수 없음  \n",
        "\n",
        "그런데 학습하는 동안 모델의 파라미터 즉,  웨이트나 바이어스는 경사하강법을 통해 계속 바뀌게 됨  \n",
        " =>  변수텐서가 필요하고 variable 객체를 사용함"
      ],
      "metadata": {
        "id": "YwMNXjLq_OOs"
      }
    },
    {
      "cell_type": "code",
      "source": [
        "variable_tensor = tf.Variable([1,2])\n",
        "variable_tensor"
      ],
      "metadata": {
        "colab": {
          "base_uri": "https://localhost:8080/"
        },
        "id": "kXX4tGKF9my6",
        "outputId": "30f1bd15-c313-4540-88ae-3430fc95049d"
      },
      "execution_count": 10,
      "outputs": [
        {
          "output_type": "execute_result",
          "data": {
            "text/plain": [
              "<tf.Variable 'Variable:0' shape=(2,) dtype=int32, numpy=array([1, 2], dtype=int32)>"
            ]
          },
          "metadata": {},
          "execution_count": 10
        }
      ]
    },
    {
      "cell_type": "code",
      "source": [
        "variable_tensor = tf.Variable(\n",
        "    np.array([[1,2], [3,4]])\n",
        ")\n",
        "variable_tensor"
      ],
      "metadata": {
        "colab": {
          "base_uri": "https://localhost:8080/"
        },
        "id": "vunrZEgR_pXr",
        "outputId": "fc50dd03-989b-4da8-d7d4-672c5f162900"
      },
      "execution_count": 11,
      "outputs": [
        {
          "output_type": "execute_result",
          "data": {
            "text/plain": [
              "<tf.Variable 'Variable:0' shape=(2, 2) dtype=int64, numpy=\n",
              "array([[1, 2],\n",
              "       [3, 4]])>"
            ]
          },
          "metadata": {},
          "execution_count": 11
        }
      ]
    },
    {
      "cell_type": "markdown",
      "source": [
        "shape는 같아야 함"
      ],
      "metadata": {
        "id": "C3zPI5hZAOm0"
      }
    },
    {
      "cell_type": "code",
      "source": [
        "variable_tensor.assign(\n",
        "    [[4,5], [6,7]]\n",
        ")\n",
        "variable_tensor"
      ],
      "metadata": {
        "colab": {
          "base_uri": "https://localhost:8080/"
        },
        "id": "7rkCPPxy_01b",
        "outputId": "5d6b0b8a-4e94-4c55-eb18-7ddb702f8f56"
      },
      "execution_count": 14,
      "outputs": [
        {
          "output_type": "execute_result",
          "data": {
            "text/plain": [
              "<tf.Variable 'Variable:0' shape=(2, 2) dtype=int64, numpy=\n",
              "array([[4, 5],\n",
              "       [6, 7]])>"
            ]
          },
          "metadata": {},
          "execution_count": 14
        }
      ]
    },
    {
      "cell_type": "markdown",
      "source": [
        "TensorFlow를 사용하다 보면 특수한 텐서를 만들어야 할 때가 생김  \n",
        " 예를 들어 모든 값을 랜덤하게 초기화할 수도 있고, 텐서의 모든 값을 0이나 1로 만들 때도 있음  \n",
        "  이런 경우에 사용할 수 있는 함수를 몇 가지 살펴보자  \n"
      ],
      "metadata": {
        "id": "j5LOUSK3Ab9y"
      }
    },
    {
      "cell_type": "markdown",
      "source": [
        "# 랜덤한 값으로 만들기"
      ],
      "metadata": {
        "id": "ZnzYyrr1AqHP"
      }
    },
    {
      "cell_type": "markdown",
      "source": [
        "랜덤한 값을 갖는 텐서는 TensorFlow의 random 모듈에 있는 함수로 만들 수 있음  \n",
        "\n",
        "\n",
        "가장 대표적인 함수는 normal()  \n",
        "\n",
        " 원하는 shape를 리스트 형태로 입력하면 평균이 0, 표준편차가 1인 표준 정규 분포를 바탕으로 난수 텐서가 만들어짐  \n"
      ],
      "metadata": {
        "id": "BPCUAC4uAzOB"
      }
    },
    {
      "cell_type": "code",
      "source": [
        "tf.random.normal([1,3])"
      ],
      "metadata": {
        "colab": {
          "base_uri": "https://localhost:8080/"
        },
        "id": "9AmXLD2GAHEt",
        "outputId": "6c2dac3b-6c6d-41d1-efd0-cac826c7abb4"
      },
      "execution_count": 15,
      "outputs": [
        {
          "output_type": "execute_result",
          "data": {
            "text/plain": [
              "<tf.Tensor: shape=(1, 3), dtype=float32, numpy=array([[-0.8377392,  1.1610656,  1.3422768]], dtype=float32)>"
            ]
          },
          "metadata": {},
          "execution_count": 15
        }
      ]
    },
    {
      "cell_type": "markdown",
      "source": [
        "mean과 stddev 파라미터를 설정해 정규 분포의 평균과 표준편차를 바꿀 수도 있음"
      ],
      "metadata": {
        "id": "QF4rPkN2A8SP"
      }
    },
    {
      "cell_type": "code",
      "source": [
        "tf.random.normal([1,3], mean=3, stddev=2)"
      ],
      "metadata": {
        "colab": {
          "base_uri": "https://localhost:8080/"
        },
        "id": "DX7yhCV5AUgm",
        "outputId": "828fa706-9a44-4716-d621-2d7dbc51ac03"
      },
      "execution_count": 16,
      "outputs": [
        {
          "output_type": "execute_result",
          "data": {
            "text/plain": [
              "<tf.Tensor: shape=(1, 3), dtype=float32, numpy=array([[1.5137224, 2.9526322, 1.9637183]], dtype=float32)>"
            ]
          },
          "metadata": {},
          "execution_count": 16
        }
      ]
    },
    {
      "cell_type": "markdown",
      "source": [
        "uniform() 함수에 원하는 shape를 입력하면 0과 1 사이의 균등 분포를 바탕으로 난수 텐서가 만들어짐  \n"
      ],
      "metadata": {
        "id": "sOSMY_YkBOfi"
      }
    },
    {
      "cell_type": "code",
      "source": [
        "tf.random.uniform([1,3])"
      ],
      "metadata": {
        "colab": {
          "base_uri": "https://localhost:8080/"
        },
        "id": "erwUd9dTBCjl",
        "outputId": "34299732-0694-439e-f688-56fb696da424"
      },
      "execution_count": 17,
      "outputs": [
        {
          "output_type": "execute_result",
          "data": {
            "text/plain": [
              "<tf.Tensor: shape=(1, 3), dtype=float32, numpy=array([[0.6096866, 0.6981033, 0.6942154]], dtype=float32)>"
            ]
          },
          "metadata": {},
          "execution_count": 17
        }
      ]
    },
    {
      "cell_type": "markdown",
      "source": [
        "minval과 maxval 파라미터를 설정해 균등 분포의 범위를 바꾸는 것도 가능  \n",
        "\n",
        " 아래처럼 코드를 작성하면 -3과 3 사이의 균등 분포에서 숫자를 뽑아 텐서를 만듬  \n",
        ""
      ],
      "metadata": {
        "id": "gJYVzAXTBZ8q"
      }
    },
    {
      "cell_type": "code",
      "source": [
        "tf.random.uniform([1,3], minval = -3, maxval=3)"
      ],
      "metadata": {
        "colab": {
          "base_uri": "https://localhost:8080/"
        },
        "id": "in2TTtVBBeuT",
        "outputId": "7474502e-f4b0-4540-a8fd-d167619f828a"
      },
      "execution_count": 20,
      "outputs": [
        {
          "output_type": "execute_result",
          "data": {
            "text/plain": [
              "<tf.Tensor: shape=(1, 3), dtype=float32, numpy=array([[-0.6380367 ,  0.12708378,  1.6469564 ]], dtype=float32)>"
            ]
          },
          "metadata": {},
          "execution_count": 20
        }
      ]
    },
    {
      "cell_type": "markdown",
      "source": [
        "# 특정한 값으로 만들기  \n"
      ],
      "metadata": {
        "id": "NyBPhEYnBvQg"
      }
    },
    {
      "cell_type": "markdown",
      "source": [
        "ones() 함수에 원하는 shape를 입력하면 값이 전부 1인 텐서를 만들 수 있음"
      ],
      "metadata": {
        "id": "A1WqbjX8ByWq"
      }
    },
    {
      "cell_type": "code",
      "source": [
        "tf.ones([1,3])"
      ],
      "metadata": {
        "colab": {
          "base_uri": "https://localhost:8080/"
        },
        "id": "FkuhBLmqBjfl",
        "outputId": "ac1b48f6-697b-4b44-e902-f7f90c04e1d4"
      },
      "execution_count": 21,
      "outputs": [
        {
          "output_type": "execute_result",
          "data": {
            "text/plain": [
              "<tf.Tensor: shape=(1, 3), dtype=float32, numpy=array([[1., 1., 1.]], dtype=float32)>"
            ]
          },
          "metadata": {},
          "execution_count": 21
        }
      ]
    },
    {
      "cell_type": "markdown",
      "source": [
        "한편 zeros() 함수로는 값이 전부 0인 텐서를 만들 수 있음"
      ],
      "metadata": {
        "id": "nTr7XAK5CrWt"
      }
    },
    {
      "cell_type": "code",
      "source": [
        "tf.zeros([1, 3])"
      ],
      "metadata": {
        "colab": {
          "base_uri": "https://localhost:8080/"
        },
        "id": "Eq0spJv0CoK_",
        "outputId": "37022623-5726-494b-a8b1-666dc771c0f3"
      },
      "execution_count": 23,
      "outputs": [
        {
          "output_type": "execute_result",
          "data": {
            "text/plain": [
              "<tf.Tensor: shape=(1, 3), dtype=float32, numpy=array([[0., 0., 0.]], dtype=float32)>"
            ]
          },
          "metadata": {},
          "execution_count": 23
        }
      ]
    },
    {
      "cell_type": "code",
      "source": [],
      "metadata": {
        "id": "x6QdxoPUCu8x"
      },
      "execution_count": null,
      "outputs": []
    }
  ]
}